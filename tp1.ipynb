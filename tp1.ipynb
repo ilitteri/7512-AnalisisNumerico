{
  "nbformat": 4,
  "nbformat_minor": 0,
  "metadata": {
    "colab": {
      "name": "tp1.ipynb",
      "provenance": [],
      "collapsed_sections": [],
      "toc_visible": true,
      "include_colab_link": true
    },
    "kernelspec": {
      "name": "python3",
      "display_name": "Python 3"
    },
    "language_info": {
      "name": "python"
    }
  },
  "cells": [
    {
      "cell_type": "markdown",
      "metadata": {
        "id": "view-in-github",
        "colab_type": "text"
      },
      "source": [
        "<a href=\"https://colab.research.google.com/github/ilitteri/7512-AnalisisNumerico/blob/main/tp1.ipynb\" target=\"_parent\"><img src=\"https://colab.research.google.com/assets/colab-badge.svg\" alt=\"Open In Colab\"/></a>"
      ]
    },
    {
      "cell_type": "code",
      "metadata": {
        "id": "g-E7xRZU9g0B"
      },
      "source": [
        "import numpy as np\n",
        "from sympy import *\n",
        "from matplotlib import pyplot as plt\n",
        "from scipy import optimize"
      ],
      "execution_count": null,
      "outputs": []
    },
    {
      "cell_type": "code",
      "metadata": {
        "id": "zhpiZYcYtr4r"
      },
      "source": [
        "# Función auxiliar para imprimir iteraciones\n",
        "def imprimir_iteraciones(iteraciones, cant_semillas = 1):\n",
        "  print(*[f\"Iteración {x} (semilla): {iteraciones[x]}\" for x in range (0, cant_semillas)], sep = '\\n')\n",
        "  print(*[f\"Iteracion {x}: {iteraciones[x] : 1.20f}, error: {abs(iteraciones[x-1] - iteraciones[x]) : 1.20f}\" for x in range(cant_semillas, len(iteraciones))], sep = '\\n')"
      ],
      "execution_count": null,
      "outputs": []
    },
    {
      "cell_type": "markdown",
      "metadata": {
        "id": "Jym1Fu24BQuy"
      },
      "source": [
        "# 2. Hallar $\\pi$ por dos caminos\n"
      ]
    },
    {
      "cell_type": "markdown",
      "metadata": {
        "id": "hhOYQu7f9p3w"
      },
      "source": [
        "## (a) Algoritmos de Newton-Raphson"
      ]
    },
    {
      "cell_type": "code",
      "metadata": {
        "id": "jputchc2BSfI"
      },
      "source": [
        "TOL_CERO = 10e-30\n",
        "def nr_sig_iter(ant_iter, funcion, derivada):\n",
        "  divisor = derivada(ant_iter)\n",
        "  if (abs(divisor) < TOL_CERO):\n",
        "    raise ZeroDivisionError(\"Imposible calcular siguiente iteración de Newton Rhapson (Derivada vale 0)\")\n",
        "\n",
        "  return ant_iter - funcion(ant_iter)/divisor\n",
        "\n",
        "def nr(funcion, derivada, semilla, max_iter = 1000, err = 0):\n",
        "  lista = [semilla]\n",
        "  for i in range(1, max_iter):\n",
        "    lista.append(nr_sig_iter(lista[i-1], funcion, derivada))\n",
        "    if (abs(lista[i-1] - lista[i]) <= err):\n",
        "      break\n",
        "\n",
        "  return np.array(lista)"
      ],
      "execution_count": null,
      "outputs": []
    },
    {
      "cell_type": "markdown",
      "metadata": {
        "id": "hZQzLwwFKXXs"
      },
      "source": [
        "## (b) Algoritmo de Leibniz"
      ]
    },
    {
      "cell_type": "code",
      "metadata": {
        "id": "gFywd2YNKYog"
      },
      "source": [
        "def leibniz(iteraciones, tipo):\n",
        "    pi = tipo(0.0)\n",
        "    signo = tipo(1.0)\n",
        "    for iteracion in range(1, iteraciones, 2):\n",
        "        pi += signo / tipo(iteracion)\n",
        "        signo *= tipo(-1.0)\n",
        "    return pi * tipo(4)"
      ],
      "execution_count": null,
      "outputs": []
    },
    {
      "cell_type": "markdown",
      "metadata": {
        "id": "8kolZ5F-KZks"
      },
      "source": [
        "## (c) Ejecutar los algoritmos anteriores con iteraciones $n=10, n=100, n=1000, n=10000, n=100000$ utilizando una representación de punto flotante de $32$ bits."
      ]
    },
    {
      "cell_type": "code",
      "metadata": {
        "id": "wdgBCDAt-U92"
      },
      "source": [
        "ITERACIONES = [10, 100, 1000, 10000, 100000]"
      ],
      "execution_count": null,
      "outputs": []
    },
    {
      "cell_type": "markdown",
      "metadata": {
        "id": "vAHU2pmm-BWg"
      },
      "source": [
        "### Con Newton-Raphson"
      ]
    },
    {
      "cell_type": "code",
      "metadata": {
        "colab": {
          "base_uri": "https://localhost:8080/"
        },
        "id": "rsxjX50KtSXW",
        "outputId": "a3d1a99c-3829-4ee5-bfe4-3adbdb60e928"
      },
      "source": [
        "  iteraciones_32 = nr(lambda x : np.sin(x), lambda x : np.cos(x), np.float64(3))\n",
        "\n",
        "  print(\"Con punto flotante de 32 bits:\")\n",
        "  imprimir_iteraciones(iteraciones_32)"
      ],
      "execution_count": null,
      "outputs": [
        {
          "output_type": "stream",
          "text": [
            "Con punto flotante de 32 bits:\n",
            "Iteración 0 (semilla): 3.0\n",
            "Iteracion 1:  3.14254654307427783166, error:  0.14254654307427783166\n",
            "Iteracion 2:  3.14159265330047698939, error:  0.00095388977380084228\n",
            "Iteracion 3:  3.14159265358979311600, error:  0.00000000028931612661\n",
            "Iteracion 4:  3.14159265358979311600, error:  0.00000000000000000000\n"
          ],
          "name": "stdout"
        }
      ]
    },
    {
      "cell_type": "markdown",
      "metadata": {
        "id": "-GjlJZj-Bshv"
      },
      "source": [
        "> No hicimos las siguientes iteraciones ya que el valor permanecía invariante desde la $4^{ta}$ iteración"
      ]
    },
    {
      "cell_type": "markdown",
      "metadata": {
        "id": "N8Iec6q6ugcz"
      },
      "source": [
        "### Con Leibniz"
      ]
    },
    {
      "cell_type": "code",
      "metadata": {
        "id": "mhtnZ1X7Kc-D",
        "colab": {
          "base_uri": "https://localhost:8080/"
        },
        "outputId": "9ade7c14-3c4a-4b49-d36b-4e97091d0639"
      },
      "source": [
        "print(*[f'{x} iteraciones: {leibniz(x, np.float32)}' for x in ITERACIONES], sep = '\\n')"
      ],
      "execution_count": null,
      "outputs": [
        {
          "output_type": "stream",
          "text": [
            "10 iteraciones: 3.3396823406219482\n",
            "100 iteraciones: 3.121594190597534\n",
            "1000 iteraciones: 3.1395931243896484\n",
            "10000 iteraciones: 3.14139723777771\n",
            "100000 iteraciones: 3.141575813293457\n"
          ],
          "name": "stdout"
        }
      ]
    },
    {
      "cell_type": "markdown",
      "metadata": {
        "id": "jEN4AuvAKd7U"
      },
      "source": [
        "## (d) Ejecutar los algoritmos anteriores con iteraciones $n=10, n=100, n=1000, n=10000, n=100000$ utilizando una representación de punto flotante de $64$ bits."
      ]
    },
    {
      "cell_type": "markdown",
      "metadata": {
        "id": "OiQQ93vk-iQe"
      },
      "source": [
        "### Con Newton-Raphson"
      ]
    },
    {
      "cell_type": "code",
      "metadata": {
        "id": "JqY2OtyBKj5Y",
        "colab": {
          "base_uri": "https://localhost:8080/"
        },
        "outputId": "8eb00fb2-c514-4681-e856-71adbfba629f"
      },
      "source": [
        "  iteraciones_64 = nr(lambda x : np.sin(x), lambda x : np.cos(x), np.float64(3))\n",
        "  print(\"Con punto flotante de 64 bits:\")\n",
        "  imprimir_iteraciones(iteraciones_64)"
      ],
      "execution_count": null,
      "outputs": [
        {
          "output_type": "stream",
          "text": [
            "Con punto flotante de 64 bits:\n",
            "Iteración 0 (semilla): 3.0\n",
            "Iteracion 1:  3.14254654307427783166, error:  0.14254654307427783166\n",
            "Iteracion 2:  3.14159265330047698939, error:  0.00095388977380084228\n",
            "Iteracion 3:  3.14159265358979311600, error:  0.00000000028931612661\n",
            "Iteracion 4:  3.14159265358979311600, error:  0.00000000000000000000\n"
          ],
          "name": "stdout"
        }
      ]
    },
    {
      "cell_type": "markdown",
      "metadata": {
        "id": "cQWsvIhUumcs"
      },
      "source": [
        "### Con Leibniz"
      ]
    },
    {
      "cell_type": "code",
      "metadata": {
        "colab": {
          "base_uri": "https://localhost:8080/"
        },
        "id": "Q-fNlEDF-l8Z",
        "outputId": "1164ab09-5b1f-4601-ea12-221962dd68f3"
      },
      "source": [
        "print(*[f'{x} iteraciones: {leibniz(x, np.float64)}' for x in ITERACIONES], sep = '\\n')"
      ],
      "execution_count": null,
      "outputs": [
        {
          "output_type": "stream",
          "text": [
            "10 iteraciones: 3.3396825396825403\n",
            "100 iteraciones: 3.121594652591011\n",
            "1000 iteraciones: 3.139592655589785\n",
            "10000 iteraciones: 3.141392653591791\n",
            "100000 iteraciones: 3.1415726535897814\n"
          ],
          "name": "stdout"
        }
      ]
    },
    {
      "cell_type": "markdown",
      "metadata": {
        "id": "zUu0VIdVvAry"
      },
      "source": [
        "# 3. Búsqueda de raíces\n",
        "\n",
        "$$\n",
        "f_{1}(x) = x^2 - 2\\\\\n",
        "f_{2}(x) = x^5 - 6.6 \\cdot x^4 + 5.12 * x^2 - 38.016 \\cdot x + 17.28\\\\\n",
        "f_{3}(x) = (x-1.5) \\cdot e^{(-4 \\cdot (x-1.5)^{2})}\n",
        "$$"
      ]
    },
    {
      "cell_type": "code",
      "metadata": {
        "id": "pz4XLpCzu5i6"
      },
      "source": [
        "f1 = lambda x : x*x - 2  \n",
        "f1_der = lambda x : 2*x\n",
        "f1_der_2 = lambda x : 2\n",
        "  \n",
        "f2 = lambda x : x ** 5 - 6.6 * x ** 4 + 5.12 * x ** 3 + 21.312 * x **2 - 38.016 * x + 17.28\n",
        "f2_der = lambda x : 5 * x ** 4 - 26.4 * x ** 3 + 15.36 * x ** 2 + 42.624 * x - 38.016\n",
        "f2_der_2 = lambda x : 20 * x ** 3 - 79.2 * x ** 2 + 30.72 * x + 42.624\n",
        "\n",
        "f3 = lambda x : (x - 1.5) * np.exp(-4 * (x - 1.5) ** 2)\n",
        "f3_der = lambda x : np.exp(-4 * (x - 1.5) ** 2) * ((-8 * x + 12) * (x - 1.5) + 1)\n",
        "f3_der_2 = lambda x : np.exp(-4 * (x - 1.5) ** 2) * (-24 * x + (x - 1.5) * (8 * x - 12) ** 2 + 36)"
      ],
      "execution_count": null,
      "outputs": []
    },
    {
      "cell_type": "code",
      "metadata": {
        "id": "TlgznfPs_LZg"
      },
      "source": [
        "INTERVALO = [0, 2]"
      ],
      "execution_count": null,
      "outputs": []
    },
    {
      "cell_type": "markdown",
      "metadata": {
        "id": "sMVqIO26_Po1"
      },
      "source": [
        "## (a) Graficar las funciones $f_{1}(x), f_{2}(x), f_{3}(x)$ en el intervalo $[0, 2]$"
      ]
    },
    {
      "cell_type": "code",
      "metadata": {
        "colab": {
          "base_uri": "https://localhost:8080/",
          "height": 268
        },
        "id": "5xa8mgjY06Si",
        "outputId": "b3624560-514c-4dca-9db9-f24008013b35"
      },
      "source": [
        "x = np.linspace(0,2,num=1000)\n",
        "\n",
        "plt.plot(x, list(map(f1, x)), label=r'$x^2 - 2$')\n",
        "plt.plot(x, list(map(f2, x)), label=r'$x^5 - 6.6x^4 + 5.12x^2 - 38.016x + 17.28$')\n",
        "plt.plot(x, list(map(f3, x)), label=r'$(x-1.5) \\cdot e^{(-4(x-1.5)^{2})}$')\n",
        "\n",
        "plt.axhline(0, color=\"black\")\n",
        "plt.axvline(0, color=\"black\")\n",
        "\n",
        "plt.xlim(INTERVALO)\n",
        "plt.ylim(-2, 2)\n",
        "\n",
        "plt.legend()\n",
        "plt.show()"
      ],
      "execution_count": null,
      "outputs": [
        {
          "output_type": "display_data",
          "data": {
            "image/png": "[encoded data removed]",
            "text/plain": [
              "<Figure size 432x288 with 1 Axes>"
            ]
          },
          "metadata": {
            "tags": [],
            "needs_background": "light"
          }
        }
      ]
    },
    {
      "cell_type": "markdown",
      "metadata": {
        "id": "bH2UUKKG_h3O"
      },
      "source": [
        "## (b) Hallar las raices de las funciones $f_{1}(x), f_{2}(x), f_{3}(x)$ en el intervalo $[0, 2]$ con los métodos de  Bisección, Newton-Raphson, Newton-Raphson modificado y Secante."
      ]
    },
    {
      "cell_type": "markdown",
      "metadata": {
        "id": "YvVyl13R4z1L"
      },
      "source": [
        "### Algoritmo de Bisección"
      ]
    },
    {
      "cell_type": "code",
      "metadata": {
        "id": "Qun9vgex4yqR"
      },
      "source": [
        "def biseccion(funcion, q0, q1, max_iter = 1000, err = 0):\n",
        "  contador = 1\n",
        "  lista = [q0, q1]\n",
        "\n",
        "  while abs(lista[contador] - lista[contador-1]) > err:\n",
        "    q2 = (q0 + q1) / 2 \n",
        "    if funcion(q0) * funcion(q2) <= 0:\n",
        "      q1 = q2\n",
        "      lista.append(q1)\n",
        "    else:\n",
        "      q0 = q2\n",
        "      lista.append(q0)\n",
        "    contador = contador + 1\n",
        "    if (contador >= max_iter):\n",
        "      break\n",
        "\n",
        "  return np.array(lista)"
      ],
      "execution_count": null,
      "outputs": []
    },
    {
      "cell_type": "markdown",
      "metadata": {
        "id": "oJio0PCBwVif"
      },
      "source": [
        "### Algoritmo de Newton Rhapson Modificado"
      ]
    },
    {
      "cell_type": "code",
      "metadata": {
        "id": "v7NQrPYZwVER"
      },
      "source": [
        "def nr_mod_sig_iter(ant_iter, funcion, derivada, derivada_2):\n",
        "  divisor = derivada(ant_iter) ** 2 - funcion(ant_iter) * derivada_2(ant_iter)\n",
        "  if (abs(divisor) < TOL_CERO):\n",
        "    raise ZeroDivisionError(\"Imposible calcular siguiente iteración de Newton Rhapson Modificado (Divisor vale 0)\")\n",
        "\n",
        "  return ant_iter - funcion(ant_iter) * derivada(ant_iter) / divisor\n",
        "\n",
        "\n",
        "def nr_mod(funcion, derivada, derivada_2, semilla, max_iter = 1000, err = 0):\n",
        "  lista = [semilla]\n",
        "  for i in range(1, max_iter):\n",
        "    lista.append(nr_mod_sig_iter(lista[i-1], funcion, derivada, derivada_2))\n",
        "    if (abs(lista[i-1] - lista[i]) <= err):\n",
        "      break\n",
        "\n",
        "  return np.array(lista)"
      ],
      "execution_count": null,
      "outputs": []
    },
    {
      "cell_type": "markdown",
      "metadata": {
        "id": "eOKu1h5pAIsg"
      },
      "source": [
        "### Algoritmo de Secante"
      ]
    },
    {
      "cell_type": "code",
      "metadata": {
        "id": "VDGDVE6HAEsq"
      },
      "source": [
        "def secante(f, a, b, N, error):\n",
        "    p = [a, b]\n",
        "    p_n = lambda f, n, p: p[n-1] - ((f(p[n-1]) * (p[n-1] - p[n-2])) / (f(p[n-1]) - f(p[n-2])))\n",
        "    for n in range(2, N-1):\n",
        "        p.append(p_n(f, n, p))\n",
        "        if abs(p[n-1] - p[n]) <= error:\n",
        "            break\n",
        "                \n",
        "    return np.array(p)"
      ],
      "execution_count": null,
      "outputs": []
    },
    {
      "cell_type": "code",
      "metadata": {
        "id": "4fCTZdQT_0r0"
      },
      "source": [
        "# Cotas de error\n",
        "ERRORES = [1e-5, 1e-13]\n",
        "# Funciones a evaluar\n",
        "FUNCIONES = [f1, f2, f3]\n",
        "FUNCIONES_DER = [f1_der, f2_der, f3_der]\n",
        "FUNCIONES_DER_2 = [f1_der_2, f2_der_2, f3_der_2]\n",
        "# Iteraciones\n",
        "N = 20\n",
        "# Mensajes\n",
        "STR_ERRORES = ['10^(-5)', '10^(-13)']\n",
        "STR_FUNCIONES = ['x**2 - 2', 'x**5 - 6.6 * x**4 + 5.12 * x**2 - 38.016 * x + 17.28', '(x - 1.5) * np.exp(-4 * (x - 1.5)**2)']\n",
        "# Resultados\n",
        "resultados_raices = {'biseccion': {}, 'newton_raphson': {}, 'newton_raphson_m': {}, 'secante': {}}"
      ],
      "execution_count": null,
      "outputs": []
    },
    {
      "cell_type": "markdown",
      "metadata": {
        "id": "2v8wrpVF_ob4"
      },
      "source": [
        "### Por Bisección"
      ]
    },
    {
      "cell_type": "code",
      "metadata": {
        "colab": {
          "base_uri": "https://localhost:8080/"
        },
        "id": "g7yQo0rXCOa1",
        "outputId": "0bf5bf42-12fb-41a8-acbc-f653434b7519"
      },
      "source": [
        "for i, f in enumerate(FUNCIONES):\n",
        "    for j, e in enumerate(ERRORES):\n",
        "        resultados_raices['biseccion'][f'{i+1}'] = biseccion(f, INTERVALO[0], INTERVALO[1], N, e)\n",
        "        print(f'Funcion {STR_FUNCIONES[i]} con error de {STR_ERRORES[j]}')\n",
        "        imprimir_iteraciones(resultados_raices['biseccion'][f'{i+1}'], cant_semillas = 2)"
      ],
      "execution_count": 96,
      "outputs": [
        {
          "output_type": "stream",
          "text": [
            "Funcion x**2 - 2 con error de 10^(-5)\n",
            "Iteración 0 (semilla): 0.0\n",
            "Iteración 1 (semilla): 2.0\n",
            "Iteracion 2:  1.00000000000000000000, error:  1.00000000000000000000\n",
            "Iteracion 3:  1.50000000000000000000, error:  0.50000000000000000000\n",
            "Iteracion 4:  1.25000000000000000000, error:  0.25000000000000000000\n",
            "Iteracion 5:  1.37500000000000000000, error:  0.12500000000000000000\n",
            "Iteracion 6:  1.43750000000000000000, error:  0.06250000000000000000\n",
            "Iteracion 7:  1.40625000000000000000, error:  0.03125000000000000000\n",
            "Iteracion 8:  1.42187500000000000000, error:  0.01562500000000000000\n",
            "Iteracion 9:  1.41406250000000000000, error:  0.00781250000000000000\n",
            "Iteracion 10:  1.41796875000000000000, error:  0.00390625000000000000\n",
            "Iteracion 11:  1.41601562500000000000, error:  0.00195312500000000000\n",
            "Iteracion 12:  1.41503906250000000000, error:  0.00097656250000000000\n",
            "Iteracion 13:  1.41455078125000000000, error:  0.00048828125000000000\n",
            "Iteracion 14:  1.41430664062500000000, error:  0.00024414062500000000\n",
            "Iteracion 15:  1.41418457031250000000, error:  0.00012207031250000000\n",
            "Iteracion 16:  1.41424560546875000000, error:  0.00006103515625000000\n",
            "Iteracion 17:  1.41421508789062500000, error:  0.00003051757812500000\n",
            "Iteracion 18:  1.41419982910156250000, error:  0.00001525878906250000\n",
            "Iteracion 19:  1.41420745849609375000, error:  0.00000762939453125000\n",
            "Funcion x**2 - 2 con error de 10^(-13)\n",
            "Iteración 0 (semilla): 0.0\n",
            "Iteración 1 (semilla): 2.0\n",
            "Iteracion 2:  1.00000000000000000000, error:  1.00000000000000000000\n",
            "Iteracion 3:  1.50000000000000000000, error:  0.50000000000000000000\n",
            "Iteracion 4:  1.25000000000000000000, error:  0.25000000000000000000\n",
            "Iteracion 5:  1.37500000000000000000, error:  0.12500000000000000000\n",
            "Iteracion 6:  1.43750000000000000000, error:  0.06250000000000000000\n",
            "Iteracion 7:  1.40625000000000000000, error:  0.03125000000000000000\n",
            "Iteracion 8:  1.42187500000000000000, error:  0.01562500000000000000\n",
            "Iteracion 9:  1.41406250000000000000, error:  0.00781250000000000000\n",
            "Iteracion 10:  1.41796875000000000000, error:  0.00390625000000000000\n",
            "Iteracion 11:  1.41601562500000000000, error:  0.00195312500000000000\n",
            "Iteracion 12:  1.41503906250000000000, error:  0.00097656250000000000\n",
            "Iteracion 13:  1.41455078125000000000, error:  0.00048828125000000000\n",
            "Iteracion 14:  1.41430664062500000000, error:  0.00024414062500000000\n",
            "Iteracion 15:  1.41418457031250000000, error:  0.00012207031250000000\n",
            "Iteracion 16:  1.41424560546875000000, error:  0.00006103515625000000\n",
            "Iteracion 17:  1.41421508789062500000, error:  0.00003051757812500000\n",
            "Iteracion 18:  1.41419982910156250000, error:  0.00001525878906250000\n",
            "Iteracion 19:  1.41420745849609375000, error:  0.00000762939453125000\n",
            "Iteracion 20:  1.41421127319335937500, error:  0.00000381469726562500\n",
            "Funcion x**5 - 6.6 * x**4 + 5.12 * x**2 - 38.016 * x + 17.28 con error de 10^(-5)\n",
            "Iteración 0 (semilla): 0.0\n",
            "Iteración 1 (semilla): 2.0\n",
            "Iteracion 2:  1.00000000000000000000, error:  1.00000000000000000000\n",
            "Iteracion 3:  1.50000000000000000000, error:  0.50000000000000000000\n",
            "Iteracion 4:  1.25000000000000000000, error:  0.25000000000000000000\n",
            "Iteracion 5:  1.12500000000000000000, error:  0.12500000000000000000\n",
            "Iteracion 6:  1.18750000000000000000, error:  0.06250000000000000000\n",
            "Iteracion 7:  1.21875000000000000000, error:  0.03125000000000000000\n",
            "Iteracion 8:  1.20312500000000000000, error:  0.01562500000000000000\n",
            "Iteracion 9:  1.19531250000000000000, error:  0.00781250000000000000\n",
            "Iteracion 10:  1.19921875000000000000, error:  0.00390625000000000000\n",
            "Iteracion 11:  1.20117187500000000000, error:  0.00195312500000000000\n",
            "Iteracion 12:  1.20019531250000000000, error:  0.00097656250000000000\n",
            "Iteracion 13:  1.19970703125000000000, error:  0.00048828125000000000\n",
            "Iteracion 14:  1.19995117187500000000, error:  0.00024414062500000000\n",
            "Iteracion 15:  1.20007324218750000000, error:  0.00012207031250000000\n",
            "Iteracion 16:  1.20001220703125000000, error:  0.00006103515625000000\n",
            "Iteracion 17:  1.19998168945312500000, error:  0.00003051757812500000\n",
            "Iteracion 18:  1.19999694824218750000, error:  0.00001525878906250000\n",
            "Iteracion 19:  1.20000457763671875000, error:  0.00000762939453125000\n",
            "Funcion x**5 - 6.6 * x**4 + 5.12 * x**2 - 38.016 * x + 17.28 con error de 10^(-13)\n",
            "Iteración 0 (semilla): 0.0\n",
            "Iteración 1 (semilla): 2.0\n",
            "Iteracion 2:  1.00000000000000000000, error:  1.00000000000000000000\n",
            "Iteracion 3:  1.50000000000000000000, error:  0.50000000000000000000\n",
            "Iteracion 4:  1.25000000000000000000, error:  0.25000000000000000000\n",
            "Iteracion 5:  1.12500000000000000000, error:  0.12500000000000000000\n",
            "Iteracion 6:  1.18750000000000000000, error:  0.06250000000000000000\n",
            "Iteracion 7:  1.21875000000000000000, error:  0.03125000000000000000\n",
            "Iteracion 8:  1.20312500000000000000, error:  0.01562500000000000000\n",
            "Iteracion 9:  1.19531250000000000000, error:  0.00781250000000000000\n",
            "Iteracion 10:  1.19921875000000000000, error:  0.00390625000000000000\n",
            "Iteracion 11:  1.20117187500000000000, error:  0.00195312500000000000\n",
            "Iteracion 12:  1.20019531250000000000, error:  0.00097656250000000000\n",
            "Iteracion 13:  1.19970703125000000000, error:  0.00048828125000000000\n",
            "Iteracion 14:  1.19995117187500000000, error:  0.00024414062500000000\n",
            "Iteracion 15:  1.20007324218750000000, error:  0.00012207031250000000\n",
            "Iteracion 16:  1.20001220703125000000, error:  0.00006103515625000000\n",
            "Iteracion 17:  1.19998168945312500000, error:  0.00003051757812500000\n",
            "Iteracion 18:  1.19999694824218750000, error:  0.00001525878906250000\n",
            "Iteracion 19:  1.20000457763671875000, error:  0.00000762939453125000\n",
            "Iteracion 20:  1.20000076293945312500, error:  0.00000381469726562500\n",
            "Funcion (x - 1.5) * np.exp(-4 * (x - 1.5)**2) con error de 10^(-5)\n",
            "Iteración 0 (semilla): 0.0\n",
            "Iteración 1 (semilla): 2.0\n",
            "Iteracion 2:  1.00000000000000000000, error:  1.00000000000000000000\n",
            "Iteracion 3:  1.50000000000000000000, error:  0.50000000000000000000\n",
            "Iteracion 4:  1.25000000000000000000, error:  0.25000000000000000000\n",
            "Iteracion 5:  1.37500000000000000000, error:  0.12500000000000000000\n",
            "Iteracion 6:  1.43750000000000000000, error:  0.06250000000000000000\n",
            "Iteracion 7:  1.46875000000000000000, error:  0.03125000000000000000\n",
            "Iteracion 8:  1.48437500000000000000, error:  0.01562500000000000000\n",
            "Iteracion 9:  1.49218750000000000000, error:  0.00781250000000000000\n",
            "Iteracion 10:  1.49609375000000000000, error:  0.00390625000000000000\n",
            "Iteracion 11:  1.49804687500000000000, error:  0.00195312500000000000\n",
            "Iteracion 12:  1.49902343750000000000, error:  0.00097656250000000000\n",
            "Iteracion 13:  1.49951171875000000000, error:  0.00048828125000000000\n",
            "Iteracion 14:  1.49975585937500000000, error:  0.00024414062500000000\n",
            "Iteracion 15:  1.49987792968750000000, error:  0.00012207031250000000\n",
            "Iteracion 16:  1.49993896484375000000, error:  0.00006103515625000000\n",
            "Iteracion 17:  1.49996948242187500000, error:  0.00003051757812500000\n",
            "Iteracion 18:  1.49998474121093750000, error:  0.00001525878906250000\n",
            "Iteracion 19:  1.49999237060546875000, error:  0.00000762939453125000\n",
            "Funcion (x - 1.5) * np.exp(-4 * (x - 1.5)**2) con error de 10^(-13)\n",
            "Iteración 0 (semilla): 0.0\n",
            "Iteración 1 (semilla): 2.0\n",
            "Iteracion 2:  1.00000000000000000000, error:  1.00000000000000000000\n",
            "Iteracion 3:  1.50000000000000000000, error:  0.50000000000000000000\n",
            "Iteracion 4:  1.25000000000000000000, error:  0.25000000000000000000\n",
            "Iteracion 5:  1.37500000000000000000, error:  0.12500000000000000000\n",
            "Iteracion 6:  1.43750000000000000000, error:  0.06250000000000000000\n",
            "Iteracion 7:  1.46875000000000000000, error:  0.03125000000000000000\n",
            "Iteracion 8:  1.48437500000000000000, error:  0.01562500000000000000\n",
            "Iteracion 9:  1.49218750000000000000, error:  0.00781250000000000000\n",
            "Iteracion 10:  1.49609375000000000000, error:  0.00390625000000000000\n",
            "Iteracion 11:  1.49804687500000000000, error:  0.00195312500000000000\n",
            "Iteracion 12:  1.49902343750000000000, error:  0.00097656250000000000\n",
            "Iteracion 13:  1.49951171875000000000, error:  0.00048828125000000000\n",
            "Iteracion 14:  1.49975585937500000000, error:  0.00024414062500000000\n",
            "Iteracion 15:  1.49987792968750000000, error:  0.00012207031250000000\n",
            "Iteracion 16:  1.49993896484375000000, error:  0.00006103515625000000\n",
            "Iteracion 17:  1.49996948242187500000, error:  0.00003051757812500000\n",
            "Iteracion 18:  1.49998474121093750000, error:  0.00001525878906250000\n",
            "Iteracion 19:  1.49999237060546875000, error:  0.00000762939453125000\n",
            "Iteracion 20:  1.49999618530273437500, error:  0.00000381469726562500\n"
          ],
          "name": "stdout"
        }
      ]
    },
    {
      "cell_type": "markdown",
      "metadata": {
        "id": "Fw9h8zSKvmjV"
      },
      "source": [
        "### Por Newton-Rhapson"
      ]
    },
    {
      "cell_type": "code",
      "metadata": {
        "colab": {
          "base_uri": "https://localhost:8080/"
        },
        "id": "A9poNxsfDK3N",
        "outputId": "8dfb2a2e-4439-4ea4-a1ff-a2537672eb62"
      },
      "source": [
        "for i, f in enumerate(FUNCIONES):\n",
        "    for j, e in enumerate(ERRORES):\n",
        "        resultados_raices['newton_raphson'][f'{i+1}'] = nr(f, FUNCIONES_DER[i], np.float64(1) if i < 2 else np.float64(1.3), err=e)\n",
        "        print(f'Funcion {STR_FUNCIONES[i]} con error de {STR_ERRORES[j]}')\n",
        "        imprimir_iteraciones(resultados_raices['newton_raphson'][f'{i+1}'])"
      ],
      "execution_count": 97,
      "outputs": [
        {
          "output_type": "stream",
          "text": [
            "Funcion x**2 - 2 con error de 10^(-5)\n",
            "Iteración 0 (semilla): 1.0\n",
            "Iteracion 1:  1.50000000000000000000, error:  0.50000000000000000000\n",
            "Iteracion 2:  1.41666666666666674068, error:  0.08333333333333325932\n",
            "Iteracion 3:  1.41421568627450988664, error:  0.00245098039215685404\n",
            "Iteracion 4:  1.41421356237468986983, error:  0.00000212389982001682\n",
            "Funcion x**2 - 2 con error de 10^(-13)\n",
            "Iteración 0 (semilla): 1.0\n",
            "Iteracion 1:  1.50000000000000000000, error:  0.50000000000000000000\n",
            "Iteracion 2:  1.41666666666666674068, error:  0.08333333333333325932\n",
            "Iteracion 3:  1.41421568627450988664, error:  0.00245098039215685404\n",
            "Iteracion 4:  1.41421356237468986983, error:  0.00000212389982001682\n",
            "Iteracion 5:  1.41421356237309514547, error:  0.00000000000159472435\n",
            "Iteracion 6:  1.41421356237309492343, error:  0.00000000000000022204\n",
            "Funcion x**5 - 6.6 * x**4 + 5.12 * x**2 - 38.016 * x + 17.28 con error de 10^(-5)\n",
            "Iteración 0 (semilla): 1.0\n",
            "Iteracion 1:  1.06703910614525421252, error:  0.06703910614525421252\n",
            "Iteracion 2:  1.11150086258499913860, error:  0.04446175643974492608\n",
            "Iteracion 3:  1.14105656721681913979, error:  0.02955570463182000118\n",
            "Iteracion 4:  1.16072726814725135647, error:  0.01967070093043221668\n",
            "Iteracion 5:  1.17382776836952595900, error:  0.01310050022227460254\n",
            "Iteracion 6:  1.18255593603555841931, error:  0.00872816766603246030\n",
            "Iteracion 7:  1.18837239141812256449, error:  0.00581645538256414518\n",
            "Iteracion 8:  1.19224903151423222702, error:  0.00387664009610966254\n",
            "Iteracion 9:  1.19483302573581773309, error:  0.00258399422158550607\n",
            "Iteracion 10:  1.19655549943818906300, error:  0.00172247370237132991\n",
            "Iteracion 11:  1.19770373210145186782, error:  0.00114823266326280482\n",
            "Iteracion 12:  1.19846918387846601561, error:  0.00076545177701414779\n",
            "Iteracion 13:  1.19897946890941953235, error:  0.00051028503095351674\n",
            "Iteracion 14:  1.19931965188975930836, error:  0.00034018298033977601\n",
            "Iteracion 15:  1.19954643774863223271, error:  0.00022678585887292435\n",
            "Iteracion 16:  1.19969762655076217506, error:  0.00015118880212994235\n",
            "Iteracion 17:  1.19979841900501704721, error:  0.00010079245425487215\n",
            "Iteracion 18:  1.19986561741583863672, error:  0.00006719841082158950\n",
            "Iteracion 19:  1.19991042711230955220, error:  0.00004480969647091548\n",
            "Iteracion 20:  1.19994031139555801246, error:  0.00002988428324846026\n",
            "Iteracion 21:  1.19996023884869451592, error:  0.00001992745313650346\n",
            "Iteracion 22:  1.19997366789705672829, error:  0.00001342904836221237\n",
            "Iteracion 23:  1.19998265697167916244, error:  0.00000898907462243415\n",
            "Funcion x**5 - 6.6 * x**4 + 5.12 * x**2 - 38.016 * x + 17.28 con error de 10^(-13)\n",
            "Iteración 0 (semilla): 1.0\n",
            "Iteracion 1:  1.06703910614525421252, error:  0.06703910614525421252\n",
            "Iteracion 2:  1.11150086258499913860, error:  0.04446175643974492608\n",
            "Iteracion 3:  1.14105656721681913979, error:  0.02955570463182000118\n",
            "Iteracion 4:  1.16072726814725135647, error:  0.01967070093043221668\n",
            "Iteracion 5:  1.17382776836952595900, error:  0.01310050022227460254\n",
            "Iteracion 6:  1.18255593603555841931, error:  0.00872816766603246030\n",
            "Iteracion 7:  1.18837239141812256449, error:  0.00581645538256414518\n",
            "Iteracion 8:  1.19224903151423222702, error:  0.00387664009610966254\n",
            "Iteracion 9:  1.19483302573581773309, error:  0.00258399422158550607\n",
            "Iteracion 10:  1.19655549943818906300, error:  0.00172247370237132991\n",
            "Iteracion 11:  1.19770373210145186782, error:  0.00114823266326280482\n",
            "Iteracion 12:  1.19846918387846601561, error:  0.00076545177701414779\n",
            "Iteracion 13:  1.19897946890941953235, error:  0.00051028503095351674\n",
            "Iteracion 14:  1.19931965188975930836, error:  0.00034018298033977601\n",
            "Iteracion 15:  1.19954643774863223271, error:  0.00022678585887292435\n",
            "Iteracion 16:  1.19969762655076217506, error:  0.00015118880212994235\n",
            "Iteracion 17:  1.19979841900501704721, error:  0.00010079245425487215\n",
            "Iteracion 18:  1.19986561741583863672, error:  0.00006719841082158950\n",
            "Iteracion 19:  1.19991042711230955220, error:  0.00004480969647091548\n",
            "Iteracion 20:  1.19994031139555801246, error:  0.00002988428324846026\n",
            "Iteracion 21:  1.19996023884869451592, error:  0.00001992745313650346\n",
            "Iteracion 22:  1.19997366789705672829, error:  0.00001342904836221237\n",
            "Iteracion 23:  1.19998265697167916244, error:  0.00000898907462243415\n",
            "Iteracion 24:  1.19998848509639577387, error:  0.00000582812471661143\n",
            "Iteracion 25:  1.19999289203938763748, error:  0.00000440694299186362\n",
            "Iteracion 26:  1.19999867481519717494, error:  0.00000578277580953745\n",
            "Iteracion 27:  1.20010960104925157310, error:  0.00011092623405439817\n",
            "Iteracion 28:  1.20007306984309702891, error:  0.00003653120615454419\n",
            "Iteracion 29:  1.20004873756441776678, error:  0.00002433227867926213\n",
            "Iteracion 30:  1.20003258384132482917, error:  0.00001615372309293761\n",
            "Iteracion 31:  1.20002175998834137438, error:  0.00001082385298345478\n",
            "Iteracion 32:  1.20001476694107567234, error:  0.00000699304726570205\n",
            "Iteracion 33:  1.20001074749050773427, error:  0.00000401945056793807\n",
            "Iteracion 34:  1.20000737499690290910, error:  0.00000337249360482517\n",
            "Iteracion 35:  1.20000737499690290910, error:  0.00000000000000000000\n",
            "Funcion (x - 1.5) * np.exp(-4 * (x - 1.5)**2) con error de 10^(-5)\n",
            "Iteración 0 (semilla): 1.3\n",
            "Iteracion 1:  1.59411764705882341708, error:  0.29411764705882337267\n",
            "Iteracion 2:  1.49282165420912882325, error:  0.10129599284969459383\n",
            "Iteracion 3:  1.50000296034398483691, error:  0.00718130613485601366\n",
            "Iteracion 4:  1.49999999999999977796, error:  0.00000296034398505896\n",
            "Funcion (x - 1.5) * np.exp(-4 * (x - 1.5)**2) con error de 10^(-13)\n",
            "Iteración 0 (semilla): 1.3\n",
            "Iteracion 1:  1.59411764705882341708, error:  0.29411764705882337267\n",
            "Iteracion 2:  1.49282165420912882325, error:  0.10129599284969459383\n",
            "Iteracion 3:  1.50000296034398483691, error:  0.00718130613485601366\n",
            "Iteracion 4:  1.49999999999999977796, error:  0.00000296034398505896\n",
            "Iteracion 5:  1.50000000000000000000, error:  0.00000000000000022204\n"
          ],
          "name": "stdout"
        }
      ]
    },
    {
      "cell_type": "markdown",
      "metadata": {
        "id": "3Al7ltyyv0Pj"
      },
      "source": [
        "### Por Newton-Rhapson Modificado"
      ]
    },
    {
      "cell_type": "code",
      "metadata": {
        "id": "3qLgMfXWFnc2",
        "colab": {
          "base_uri": "https://localhost:8080/"
        },
        "outputId": "dd0fd3f0-90bd-4373-fdc7-386f212c17e4"
      },
      "source": [
        "for i, f in enumerate(FUNCIONES):\n",
        "    for j, e in enumerate(ERRORES):\n",
        "        resultados_raices['newton_raphson_m'][f'{i+1}'] = nr_mod(f, FUNCIONES_DER[i], FUNCIONES_DER_2[i], np.float64(1) if i < 2 else np.float64(1.2), err=e)\n",
        "        print(f'Funcion {STR_FUNCIONES[i]} con error de {STR_ERRORES[j]}')\n",
        "        imprimir_iteraciones(resultados_raices['newton_raphson_m'][f'{i+1}'])"
      ],
      "execution_count": 98,
      "outputs": [
        {
          "output_type": "stream",
          "text": [
            "Funcion x**2 - 2 con error de 10^(-5)\n",
            "Iteración 0 (semilla): 1.0\n",
            "Iteracion 1:  1.33333333333333325932, error:  0.33333333333333325932\n",
            "Iteracion 2:  1.41176470588235281056, error:  0.07843137254901955124\n",
            "Iteracion 3:  1.41421143847487007505, error:  0.00244673259251726449\n",
            "Iteracion 4:  1.41421356237150019908, error:  0.00000212389663012402\n",
            "Funcion x**2 - 2 con error de 10^(-13)\n",
            "Iteración 0 (semilla): 1.0\n",
            "Iteracion 1:  1.33333333333333325932, error:  0.33333333333333325932\n",
            "Iteracion 2:  1.41176470588235281056, error:  0.07843137254901955124\n",
            "Iteracion 3:  1.41421143847487007505, error:  0.00244673259251726449\n",
            "Iteracion 4:  1.41421356237150019908, error:  0.00000212389663012402\n",
            "Iteracion 5:  1.41421356237309492343, error:  0.00000000000159472435\n",
            "Iteracion 6:  1.41421356237309514547, error:  0.00000000000000022204\n",
            "Funcion x**5 - 6.6 * x**4 + 5.12 * x**2 - 38.016 * x + 17.28 con error de 10^(-5)\n",
            "Iteración 0 (semilla): 1.0\n",
            "Iteracion 1:  1.19842956120094923378, error:  0.19842956120094923378\n",
            "Iteracion 2:  1.19999995893143807102, error:  0.00157039773048883724\n",
            "Iteracion 3:  1.19999993996062537249, error:  0.00000001897081269853\n",
            "Funcion x**5 - 6.6 * x**4 + 5.12 * x**2 - 38.016 * x + 17.28 con error de 10^(-13)\n",
            "Iteración 0 (semilla): 1.0\n",
            "Iteracion 1:  1.19842956120094923378, error:  0.19842956120094923378\n",
            "Iteracion 2:  1.19999995893143807102, error:  0.00157039773048883724\n",
            "Iteracion 3:  1.19999993996062537249, error:  0.00000001897081269853\n",
            "Iteracion 4:  1.19999991238544589933, error:  0.00000002757517947316\n",
            "Iteracion 5:  1.19999987125802154431, error:  0.00000004112742435503\n",
            "Iteracion 6:  1.19999980771515413203, error:  0.00000006354286741228\n",
            "Iteracion 7:  1.19999971198740507106, error:  0.00000009572774906097\n",
            "Iteracion 8:  1.19999971198740507106, error:  0.00000000000000000000\n",
            "Funcion (x - 1.5) * np.exp(-4 * (x - 1.5)**2) con error de 10^(-5)\n",
            "Iteración 0 (semilla): 1.2\n",
            "Iteracion 1:  1.24883720930232544610, error:  0.04883720930232549051\n",
            "Iteracion 2:  1.33152055033153549068, error:  0.08268334102921004458\n",
            "Iteracion 3:  1.43764274477692954868, error:  0.10612219444539405799\n",
            "Iteracion 4:  1.49623749536914796288, error:  0.05859475059221841420\n",
            "Iteracion 5:  1.49999914787770127766, error:  0.00376165250855331479\n",
            "Iteracion 6:  1.50000000000000000000, error:  0.00000085212229872234\n",
            "Funcion (x - 1.5) * np.exp(-4 * (x - 1.5)**2) con error de 10^(-13)\n",
            "Iteración 0 (semilla): 1.2\n",
            "Iteracion 1:  1.24883720930232544610, error:  0.04883720930232549051\n",
            "Iteracion 2:  1.33152055033153549068, error:  0.08268334102921004458\n",
            "Iteracion 3:  1.43764274477692954868, error:  0.10612219444539405799\n",
            "Iteracion 4:  1.49623749536914796288, error:  0.05859475059221841420\n",
            "Iteracion 5:  1.49999914787770127766, error:  0.00376165250855331479\n",
            "Iteracion 6:  1.50000000000000000000, error:  0.00000085212229872234\n",
            "Iteracion 7:  1.50000000000000000000, error:  0.00000000000000000000\n"
          ],
          "name": "stdout"
        }
      ]
    },
    {
      "cell_type": "markdown",
      "metadata": {
        "id": "l_EhTMzl_y89"
      },
      "source": [
        "### Por Secante"
      ]
    },
    {
      "cell_type": "code",
      "metadata": {
        "id": "S29iTD6u_-sF",
        "colab": {
          "base_uri": "https://localhost:8080/"
        },
        "outputId": "1c8a6e4c-9a9a-4bc4-b8aa-570239ef687d"
      },
      "source": [
        "for i, f in enumerate(FUNCIONES):\n",
        "    for j, e in enumerate(ERRORES):\n",
        "        resultados_raices['secante'][f'{i+1}'] = secante(f, INTERVALO[0], INTERVALO[1], N, e)\n",
        "        print(f'Funcion {STR_FUNCIONES[i]} con error de {STR_ERRORES[j]}')\n",
        "        imprimir_iteraciones(resultados_raices['secante'][f'{i+1}'], cant_semillas=2)"
      ],
      "execution_count": 99,
      "outputs": [
        {
          "output_type": "stream",
          "text": [
            "Funcion x**2 - 2 con error de 10^(-5)\n",
            "Iteración 0 (semilla): 0.0\n",
            "Iteración 1 (semilla): 2.0\n",
            "Iteracion 2:  1.00000000000000000000, error:  1.00000000000000000000\n",
            "Iteracion 3:  1.33333333333333325932, error:  0.33333333333333325932\n",
            "Iteracion 4:  1.42857142857142860315, error:  0.09523809523809534383\n",
            "Iteracion 5:  1.41379310344827580082, error:  0.01477832512315280233\n",
            "Iteracion 6:  1.41421143847487007505, error:  0.00041833502659427424\n",
            "Iteracion 7:  1.41421356268886966312, error:  0.00000212421399958806\n",
            "Funcion x**2 - 2 con error de 10^(-13)\n",
            "Iteración 0 (semilla): 0.0\n",
            "Iteración 1 (semilla): 2.0\n",
            "Iteracion 2:  1.00000000000000000000, error:  1.00000000000000000000\n",
            "Iteracion 3:  1.33333333333333325932, error:  0.33333333333333325932\n",
            "Iteracion 4:  1.42857142857142860315, error:  0.09523809523809534383\n",
            "Iteracion 5:  1.41379310344827580082, error:  0.01477832512315280233\n",
            "Iteracion 6:  1.41421143847487007505, error:  0.00041833502659427424\n",
            "Iteracion 7:  1.41421356268886966312, error:  0.00000212421399958806\n",
            "Iteracion 8:  1.41421356237309470139, error:  0.00000000031577496173\n",
            "Iteracion 9:  1.41421356237309492343, error:  0.00000000000000022204\n",
            "Funcion x**5 - 6.6 * x**4 + 5.12 * x**2 - 38.016 * x + 17.28 con error de 10^(-5)\n",
            "Iteración 0 (semilla): 0.0\n",
            "Iteración 1 (semilla): 2.0\n",
            "Iteracion 2:  1.47540983606557474239, error:  0.52459016393442525761\n",
            "Iteracion 3:  1.45261181212121970319, error:  0.02279802394435503921\n",
            "Iteracion 4:  1.37561518314165831534, error:  0.07699662897956138785\n",
            "Iteracion 5:  1.33671825841182023709, error:  0.03889692472983807825\n",
            "Iteracion 6:  1.30202941461635446352, error:  0.03468884379546577357\n",
            "Iteracion 7:  1.27740140949802993831, error:  0.02462800511832452521\n",
            "Iteracion 8:  1.25834598672927122642, error:  0.01905542276875871188\n",
            "Iteracion 9:  1.24408615083594975559, error:  0.01425983589332147083\n",
            "Iteracion 10:  1.23327848927736205553, error:  0.01080766155858770006\n",
            "Iteracion 11:  1.22512815869420266246, error:  0.00815033058315939307\n",
            "Iteracion 12:  1.21897058097163135670, error:  0.00615757772257130576\n",
            "Iteracion 13:  1.21432221203783985430, error:  0.00464836893379150240\n",
            "Iteracion 14:  1.21081234508871071753, error:  0.00350986694912913677\n",
            "Iteracion 15:  1.20816252887727237919, error:  0.00264981621143833834\n",
            "Iteracion 16:  1.20616200087027158894, error:  0.00200052800700079025\n",
            "Iteracion 17:  1.20465172788374252910, error:  0.00151027298652905984\n",
            "Iteracion 18:  1.20351158219842679920, error:  0.00114014568531572991\n",
            "Funcion x**5 - 6.6 * x**4 + 5.12 * x**2 - 38.016 * x + 17.28 con error de 10^(-13)\n",
            "Iteración 0 (semilla): 0.0\n",
            "Iteración 1 (semilla): 2.0\n",
            "Iteracion 2:  1.47540983606557474239, error:  0.52459016393442525761\n",
            "Iteracion 3:  1.45261181212121970319, error:  0.02279802394435503921\n",
            "Iteracion 4:  1.37561518314165831534, error:  0.07699662897956138785\n",
            "Iteracion 5:  1.33671825841182023709, error:  0.03889692472983807825\n",
            "Iteracion 6:  1.30202941461635446352, error:  0.03468884379546577357\n",
            "Iteracion 7:  1.27740140949802993831, error:  0.02462800511832452521\n",
            "Iteracion 8:  1.25834598672927122642, error:  0.01905542276875871188\n",
            "Iteracion 9:  1.24408615083594975559, error:  0.01425983589332147083\n",
            "Iteracion 10:  1.23327848927736205553, error:  0.01080766155858770006\n",
            "Iteracion 11:  1.22512815869420266246, error:  0.00815033058315939307\n",
            "Iteracion 12:  1.21897058097163135670, error:  0.00615757772257130576\n",
            "Iteracion 13:  1.21432221203783985430, error:  0.00464836893379150240\n",
            "Iteracion 14:  1.21081234508871071753, error:  0.00350986694912913677\n",
            "Iteracion 15:  1.20816252887727237919, error:  0.00264981621143833834\n",
            "Iteracion 16:  1.20616200087027158894, error:  0.00200052800700079025\n",
            "Iteracion 17:  1.20465172788374252910, error:  0.00151027298652905984\n",
            "Iteracion 18:  1.20351158219842679920, error:  0.00114014568531572991\n",
            "Funcion (x - 1.5) * np.exp(-4 * (x - 1.5)**2) con error de 10^(-5)\n",
            "Iteración 0 (semilla): 0.0\n",
            "Iteración 1 (semilla): 2.0\n",
            "Iteracion 2:  0.00201075217079327295, error:  1.99798924782920672705\n",
            "Iteracion 3:  0.00406570168664396533, error:  0.00205494951585069238\n",
            "Iteracion 4: -0.08540126682164769778, error:  0.08946696850829166658\n",
            "Iteracion 5: -0.13396310349701759379, error:  0.04856183667536989601\n",
            "Iteracion 6: -0.19366823782382544539, error:  0.05970513432680785160\n",
            "Iteracion 7: -0.24623709223741130359, error:  0.05256885441358585820\n",
            "Iteracion 8: -0.29884657003666320607, error:  0.05260947779925190249\n",
            "Iteracion 9: -0.34909810673284652482, error:  0.05025153669618331875\n",
            "Iteracion 10: -0.39811070468418741086, error:  0.04901259795134088604\n",
            "Iteracion 11: -0.44565404952736042965, error:  0.04754334484317301879\n",
            "Iteracion 12: -0.49197620297204341933, error:  0.04632215344468298968\n",
            "Iteracion 13: -0.53712399917692255080, error:  0.04514779620487913148\n",
            "Iteracion 14: -0.58120210527045046423, error:  0.04407810609352791342\n",
            "Iteracion 15: -0.62427865736268906005, error:  0.04307655209223859583\n",
            "Iteracion 16: -0.66642319795361815160, error:  0.04214454059092909155\n",
            "Iteracion 17: -0.70769429142072726169, error:  0.04127109346710911009\n",
            "Iteracion 18: -0.74814575016759266024, error:  0.04045145874686539855\n",
            "Funcion (x - 1.5) * np.exp(-4 * (x - 1.5)**2) con error de 10^(-13)\n",
            "Iteración 0 (semilla): 0.0\n",
            "Iteración 1 (semilla): 2.0\n",
            "Iteracion 2:  0.00201075217079327295, error:  1.99798924782920672705\n",
            "Iteracion 3:  0.00406570168664396533, error:  0.00205494951585069238\n",
            "Iteracion 4: -0.08540126682164769778, error:  0.08946696850829166658\n",
            "Iteracion 5: -0.13396310349701759379, error:  0.04856183667536989601\n",
            "Iteracion 6: -0.19366823782382544539, error:  0.05970513432680785160\n",
            "Iteracion 7: -0.24623709223741130359, error:  0.05256885441358585820\n",
            "Iteracion 8: -0.29884657003666320607, error:  0.05260947779925190249\n",
            "Iteracion 9: -0.34909810673284652482, error:  0.05025153669618331875\n",
            "Iteracion 10: -0.39811070468418741086, error:  0.04901259795134088604\n",
            "Iteracion 11: -0.44565404952736042965, error:  0.04754334484317301879\n",
            "Iteracion 12: -0.49197620297204341933, error:  0.04632215344468298968\n",
            "Iteracion 13: -0.53712399917692255080, error:  0.04514779620487913148\n",
            "Iteracion 14: -0.58120210527045046423, error:  0.04407810609352791342\n",
            "Iteracion 15: -0.62427865736268906005, error:  0.04307655209223859583\n",
            "Iteracion 16: -0.66642319795361815160, error:  0.04214454059092909155\n",
            "Iteracion 17: -0.70769429142072726169, error:  0.04127109346710911009\n",
            "Iteracion 18: -0.74814575016759266024, error:  0.04045145874686539855\n"
          ],
          "name": "stdout"
        }
      ]
    },
    {
      "cell_type": "markdown",
      "metadata": {
        "id": "wRHnlKR7woEb"
      },
      "source": [
        "##c)"
      ]
    },
    {
      "cell_type": "code",
      "metadata": {
        "colab": {
          "base_uri": "https://localhost:8080/"
        },
        "id": "ZJFTXLg4wqi0",
        "outputId": "a302abfb-f9ae-42ad-b976-b580c6fe78be"
      },
      "source": [
        "print(f\"Raiz de f1 segun SciPy: {optimize.brentq(f1, 0, 2)}\")\n",
        "print(f\"Raiz de f2 segun SciPy: {optimize.brentq(f2, 0, 2)}\")\n",
        "print(f\"Raiz de f3 segun SciPy: {optimize.brentq(f3, 0, 2)}\")"
      ],
      "execution_count": null,
      "outputs": [
        {
          "output_type": "stream",
          "text": [
            "Raiz de f1 segun SciPy: 1.4142135623731364\n",
            "Raiz de f2 segun SciPy: 1.2000081652661798\n",
            "Raiz de f3 segun SciPy: 1.5000000000000198\n"
          ],
          "name": "stdout"
        }
      ]
    },
    {
      "cell_type": "markdown",
      "metadata": {
        "id": "Kf2SVVTMGbS8"
      },
      "source": [
        "##d)"
      ]
    },
    {
      "cell_type": "code",
      "metadata": {
        "id": "ypvypaZdRErR"
      },
      "source": [
        "# Titulos\n",
        "TITULOS = {\n",
        "    'biseccion': 'Orden de Convergencia\\n Metodo Biseccion',\n",
        "    'newton_raphson': 'Orden de Convergencia\\n Metodo Newton-Raphson',\n",
        "    'newton_raphson_m': 'Orden de Convergencia\\n Metodo Newton-Raphson Modificado',\n",
        "    'secante': 'Orden de Convergencia\\n Metodo Secante'\n",
        "}\n",
        "\n",
        "# Funciones LaTeX\n",
        "LATEX_FUNCIONES = [\n",
        "    r'$x^2 - 2$',\n",
        "    r'$x^5 - 6.6x^4 + 5.12x^2 - 38.016x + 17.28$',\n",
        "    r'$(x-1.5) \\cdot e^{(-4(x-1.5)^{2})}$'\n",
        "]"
      ],
      "execution_count": 147,
      "outputs": []
    },
    {
      "cell_type": "markdown",
      "metadata": {
        "id": "UAzSt9SEGqwP"
      },
      "source": [
        "### Algoritmo para calcular el orden de convergencia por iteración"
      ]
    },
    {
      "cell_type": "code",
      "metadata": {
        "id": "XbPp7GBlGc2q"
      },
      "source": [
        "def ordenes_convergencia(iteraciones):\n",
        "  ordenes = []\n",
        "  for i in range(2, len(iteraciones) - 1):\n",
        "    num = np.log(abs((iteraciones[i + 1] - iteraciones[i]) / (iteraciones[i] - iteraciones[i - 1])))\n",
        "    den = np.log(abs((iteraciones[i] - iteraciones[i - 1]) / (iteraciones[i - 1] - iteraciones[i - 2])))\n",
        "    ordenes.append(num / den)\n",
        "  return ordenes"
      ],
      "execution_count": 79,
      "outputs": []
    },
    {
      "cell_type": "markdown",
      "metadata": {
        "id": "XexQF9MpGswy"
      },
      "source": [
        "### Orden de bisección"
      ]
    },
    {
      "cell_type": "code",
      "metadata": {
        "colab": {
          "base_uri": "https://localhost:8080/",
          "height": 1000
        },
        "id": "bin5jr52TO9j",
        "outputId": "8043c8a4-0da6-4705-b599-ec9d4bf71d35"
      },
      "source": [
        "fig, ax = plt.subplots(3, 3, figsize=(18.5, 20))\n",
        "\n",
        "metodos = list(resultados_raices.keys())\n",
        "for j in range(3):\n",
        "  for i in range(3):\n",
        "    ordenes = ordenes_convergencia(resultados_raices[metodos[i]][str(j+1)])\n",
        "    ax[i][j].set_title(TITULOS[metodos[i]])\n",
        "    ax[i][j].plot(range(2, len(resultados_raices[metodos[i]][str(j+1)]) - 1), ordenes, label=LATEX_FUNCIONES[j])\n",
        "    ax[i][j].set_xlabel('xlabel')\n",
        "    ax[i][j].set_ylabel('ylabel')\n",
        "    ax[i][j].legend()\n"
      ],
      "execution_count": 149,
      "outputs": [
        {
          "output_type": "stream",
          "text": [
            "/usr/local/lib/python3.7/dist-packages/ipykernel_launcher.py:4: RuntimeWarning: divide by zero encountered in log\n",
            "  after removing the cwd from sys.path.\n"
          ],
          "name": "stderr"
        },
        {
          "output_type": "display_data",
          "data": {
            "image/png": "[encoded data removed]",
            "text/plain": [
              "<Figure size 1332x1440 with 9 Axes>"
            ]
          },
          "metadata": {
            "tags": [],
            "needs_background": "light"
          }
        }
      ]
    }
  ]
}