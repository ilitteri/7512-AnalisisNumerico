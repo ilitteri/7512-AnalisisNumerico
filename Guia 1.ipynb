{
 "metadata": {
  "language_info": {
   "codemirror_mode": {
    "name": "ipython",
    "version": 3
   },
   "file_extension": ".py",
   "mimetype": "text/x-python",
   "name": "python",
   "nbconvert_exporter": "python",
   "pygments_lexer": "ipython3",
   "version": "3.8.5-final"
  },
  "orig_nbformat": 2,
  "kernelspec": {
   "name": "python38564bite93c2a51c91240849134fbac2092d1a2",
   "display_name": "Python 3.8.5 64-bit"
  },
  "metadata": {
   "interpreter": {
    "hash": "31f2aee4e71d21fbe5cf8b01ff0e069b9275f58929596ceb00d14d90e3e16cd6"
   }
  }
 },
 "nbformat": 4,
 "nbformat_minor": 2,
 "cells": [
  {
   "source": [
    "# Teoría de Errores"
   ],
   "cell_type": "markdown",
   "metadata": {}
  },
  {
   "cell_type": "code",
   "execution_count": 1,
   "metadata": {},
   "outputs": [],
   "source": [
    "import numpy as np\n",
    "import matplotlib.pyplot as plt"
   ]
  },
  {
   "source": [
    "## "
   ],
   "cell_type": "markdown",
   "metadata": {}
  },
  {
   "source": [
    "**Consigna**"
   ],
   "cell_type": "markdown",
   "metadata": {}
  },
  {
   "source": [
    "Si $a$ y $b$ son los valores que tienen dos magnitudes y $\\overline{a}$ y $\\overline{b}$ son los valores medidos de dichas magnitudes, obtener para cad una de ellas:\n",
    "\n",
    "1. El error absoluto, el error relativo y una cota para el error relativo.\n",
    "2. Obtener el $e_{r(a+b)}$ con estos datos: $$a = 2, \\overline{a} = 2.01, b = 3, \\overline{b} = 3.02$$\n",
    "3. Calcular el $e_{r(a-b)}$ con los datos de $b)$.\n",
    "4. Obtener el $e_{r(a, b)}$ cuando: $$ a = 2, \\overline{a} = 2.02, b = 1, \\overline{b} = 1.6$$ Redondear los resultados con 2 decimales."
   ],
   "cell_type": "markdown",
   "metadata": {}
  },
  {
   "source": [
    "**Resolución**"
   ],
   "cell_type": "markdown",
   "metadata": {}
  },
  {
   "source": [
    "1. \n",
    "\n",
    "Error Absoluto:\n",
    "$$e_{a} = x - \\overline{x}$$\n",
    "\n",
    "Cota:\n",
    "\n",
    "$$|e_{a}| \\leq \\Delta_{a}$$\n",
    "\n",
    "se redondea hacia arriba obteniendo algo de la forma\n",
    "\n",
    "$$\\Delta_{a} = 0.d_{1} \\cdot 10^{-t}, d_{1} \\geq 1$$\n",
    "\n",
    "Error Relativo:\n",
    "\n",
    "$$e_{r} = \\frac{x-\\overline{x}}{x}, x \\neq 0$$\n",
    "\n",
    "Error Relativo Porcentual:\n",
    "\n",
    "$$e_{r\\%} = \\frac{x-\\overline{x}}{x} \\cdot 100, x \\neq 0$$"
   ],
   "cell_type": "markdown",
   "metadata": {}
  },
  {
   "source": [
    "2."
   ],
   "cell_type": "markdown",
   "metadata": {}
  },
  {
   "cell_type": "code",
   "execution_count": 2,
   "metadata": {},
   "outputs": [],
   "source": [
    "# Datos\n",
    "a = 2\n",
    "b = 3\n",
    "aMedido = 2.01\n",
    "bMedido = 3.02\n",
    "x = a + b\n",
    "xMedido = aMedido + bMedido"
   ]
  },
  {
   "cell_type": "code",
   "execution_count": 3,
   "metadata": {},
   "outputs": [],
   "source": [
    "calcularErrorRelativo = lambda x, xMedido: (x * xMedido) / x"
   ]
  },
  {
   "cell_type": "code",
   "execution_count": 4,
   "metadata": {},
   "outputs": [
    {
     "output_type": "execute_result",
     "data": {
      "text/plain": [
       "5.029999999999999"
      ]
     },
     "metadata": {},
     "execution_count": 4
    }
   ],
   "source": [
    "errorRelativo_2 = calcularErrorRelativo(x, xMedido)\n",
    "errorRelativo_2"
   ]
  },
  {
   "source": [
    "3."
   ],
   "cell_type": "markdown",
   "metadata": {}
  },
  {
   "cell_type": "code",
   "execution_count": 5,
   "metadata": {},
   "outputs": [],
   "source": [
    "x = a - b\n",
    "xMedido = aMedido - bMedido"
   ]
  },
  {
   "cell_type": "code",
   "execution_count": 6,
   "metadata": {},
   "outputs": [
    {
     "output_type": "execute_result",
     "data": {
      "text/plain": [
       "-1.0100000000000002"
      ]
     },
     "metadata": {},
     "execution_count": 6
    }
   ],
   "source": [
    "errorRelativo_3 = calcularErrorRelativo(x, xMedido)\n",
    "errorRelativo_3"
   ]
  },
  {
   "source": [
    "4."
   ],
   "cell_type": "markdown",
   "metadata": {}
  },
  {
   "cell_type": "code",
   "execution_count": 7,
   "metadata": {},
   "outputs": [],
   "source": [
    "# Datos\n",
    "a = 2\n",
    "b = 1\n",
    "aMedido = 2.02\n",
    "bMedido = 1.6\n",
    "x = a * b\n",
    "xMedido = aMedido * bMedido"
   ]
  },
  {
   "cell_type": "code",
   "execution_count": 8,
   "metadata": {},
   "outputs": [
    {
     "output_type": "execute_result",
     "data": {
      "text/plain": [
       "3.23"
      ]
     },
     "metadata": {},
     "execution_count": 8
    }
   ],
   "source": [
    "errorRelativo_4 = calcularErrorRelativo(x, xMedido)\n",
    "np.round(errorRelativo_4, 2)"
   ]
  },
  {
   "source": [
    "##\n",
    "\n",
    "**Consigna**\n",
    "\n",
    "Si el resultado de medir cierta longitud con una regla graduada en milímetros es $\\overline{x} = 3cm$. Dar una cota para el error absoluto de $x$ y dar una cota para el error relativo de $x$.\n",
    "\n",
    "**Resolución**"
   ],
   "cell_type": "markdown",
   "metadata": {}
  },
  {
   "source": [
    "# Datos\n",
    "xMedido = 3"
   ],
   "cell_type": "code",
   "metadata": {},
   "execution_count": null,
   "outputs": []
  },
  {
   "source": [
    "##\n",
    "\n",
    "**Consigna**\n",
    "\n",
    "Suponga que el resultado de una operación dió: $\\overline{x} = 0.2489$, $|e_{x}| = 0.6\\cdot10^{-4}$\n",
    "\n",
    "1. ¿Es posible afirmar que tiene $t = 4$ dígitos correctos? Justifique la respuesta.\n",
    "2. ¿Es posible afirmar que tiene $t = 3$ dígitos correctos? Justifique la respuesta. Si es así, diga cómo se debe expresar.\n",
    "\n",
    "**Resolución**"
   ],
   "cell_type": "markdown",
   "metadata": {}
  },
  {
   "source": [
    "$$\n",
    "|e_{x}| \\leq \\Delta_{a}\\\\\n",
    "|e_{x}| \\leq 0.d_{1}\\cdot 10^{-t} \\\\\n",
    "$$"
   ],
   "cell_type": "markdown",
   "metadata": {}
  },
  {
   "cell_type": "code",
   "execution_count": 20,
   "metadata": {},
   "outputs": [
    {
     "output_type": "execute_result",
     "data": {
      "text/plain": [
       "(0.24896000000000001, 0.24884)"
      ]
     },
     "metadata": {},
     "execution_count": 20
    }
   ],
   "source": [
    "cotaErrorAbs = 0.6e-4\n",
    "xMedido = 0.2489\n",
    "x1 = xMedido + cotaErrorAbs\n",
    "x2 = xMedido - cotaErrorAbs\n",
    "x1, x2"
   ]
  },
  {
   "cell_type": "code",
   "execution_count": null,
   "metadata": {},
   "outputs": [],
   "source": []
  }
 ]
}